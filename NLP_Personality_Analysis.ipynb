{
 "cells": [
  {
   "cell_type": "code",
   "execution_count": 14,
   "id": "568de694",
   "metadata": {},
   "outputs": [
    {
     "name": "stdout",
     "output_type": "stream",
     "text": [
      "Collecting nltk\n",
      "  Downloading nltk-3.9.1-py3-none-any.whl.metadata (2.9 kB)\n",
      "Requirement already satisfied: click in d:\\apps\\anaconda3\\envs\\gpu_env\\lib\\site-packages (from nltk) (8.1.7)\n",
      "Requirement already satisfied: joblib in d:\\apps\\anaconda3\\envs\\gpu_env\\lib\\site-packages (from nltk) (1.3.2)\n",
      "Collecting regex>=2021.8.3 (from nltk)\n",
      "  Downloading regex-2024.9.11-cp38-cp38-win_amd64.whl.metadata (41 kB)\n",
      "     ---------------------------------------- 0.0/41.5 kB ? eta -:--:--\n",
      "     -------------------------------------- 41.5/41.5 kB 666.1 kB/s eta 0:00:00\n",
      "Requirement already satisfied: tqdm in d:\\apps\\anaconda3\\envs\\gpu_env\\lib\\site-packages (from nltk) (4.66.1)\n",
      "Requirement already satisfied: colorama in d:\\apps\\anaconda3\\envs\\gpu_env\\lib\\site-packages (from click->nltk) (0.4.6)\n",
      "Downloading nltk-3.9.1-py3-none-any.whl (1.5 MB)\n",
      "   ---------------------------------------- 0.0/1.5 MB ? eta -:--:--\n",
      "   ------ --------------------------------- 0.3/1.5 MB 5.2 MB/s eta 0:00:01\n",
      "   -------------------------------- ------- 1.2/1.5 MB 13.1 MB/s eta 0:00:01\n",
      "   ---------------------------------------- 1.5/1.5 MB 13.6 MB/s eta 0:00:00\n",
      "Downloading regex-2024.9.11-cp38-cp38-win_amd64.whl (274 kB)\n",
      "   ---------------------------------------- 0.0/274.1 kB ? eta -:--:--\n",
      "   ---------------------------------------- 274.1/274.1 kB ? eta 0:00:00\n",
      "Installing collected packages: regex, nltk\n",
      "Successfully installed nltk-3.9.1 regex-2024.9.11\n"
     ]
    }
   ],
   "source": [
    "!pip install nltk"
   ]
  },
  {
   "cell_type": "code",
   "execution_count": 1,
   "id": "575589a6-8c41-48f5-bf63-f2ddf70a31fa",
   "metadata": {},
   "outputs": [
    {
     "name": "stdout",
     "output_type": "stream",
     "text": [
      "<class 'pandas.core.frame.DataFrame'>\n",
      "RangeIndex: 6510 entries, 0 to 6509\n",
      "Data columns (total 12 columns):\n",
      " #   Column       Non-Null Count  Dtype \n",
      "---  ------       --------------  ----- \n",
      " 0   Speaker_1    6510 non-null   object\n",
      " 1   Speaker_2    6510 non-null   object\n",
      " 2   Personality  6510 non-null   object\n",
      " 3   Utterance_1  6510 non-null   object\n",
      " 4   Utterance_2  6510 non-null   object\n",
      " 5   Utterance_3  6510 non-null   object\n",
      " 6   Emotion_1    6510 non-null   object\n",
      " 7   Emotion_2    6510 non-null   object\n",
      " 8   Emotion_3    6510 non-null   object\n",
      " 9   Sentiment_1  6510 non-null   object\n",
      " 10  Sentiment_2  6510 non-null   object\n",
      " 11  Sentiment_3  6510 non-null   object\n",
      "dtypes: object(12)\n",
      "memory usage: 610.4+ KB\n"
     ]
    }
   ],
   "source": [
    "import pandas as pd\n",
    "\n",
    "df_raw = pd.read_csv('Dyadic_PELD.tsv', sep='\\t', header=0)\n",
    "df_raw.info()"
   ]
  },
  {
   "cell_type": "code",
   "execution_count": 6,
   "id": "a0a56149-942e-4322-92d6-aaf62869db74",
   "metadata": {},
   "outputs": [
    {
     "name": "stdout",
     "output_type": "stream",
     "text": [
      "Speaker_1      object\n",
      "Speaker_2      object\n",
      "Personality    object\n",
      "Utterance_1    object\n",
      "Utterance_2    object\n",
      "Utterance_3    object\n",
      "Emotion_1      object\n",
      "Emotion_2      object\n",
      "Emotion_3      object\n",
      "Sentiment_1    object\n",
      "Sentiment_2    object\n",
      "Sentiment_3    object\n",
      "dtype: object\n",
      "Speaker: Chandler, Rows: 1085\n",
      "Speaker: Joey, Rows: 1123\n",
      "Speaker: Rachel, Rows: 1156\n",
      "Speaker: Monica, Rows: 1051\n",
      "Speaker: Phoebe, Rows: 972\n",
      "Speaker: Ross, Rows: 1123\n"
     ]
    }
   ],
   "source": [
    "\n",
    "# Check the types of all columns in df_raw\n",
    "print(df_raw.dtypes)\n",
    "\n",
    "# Split df_raw into separate dataframes according to Speaker_1 column values\n",
    "speaker_dfs = {}\n",
    "for speaker in df_raw['Speaker_1'].unique():\n",
    "    speaker_df = df_raw[df_raw['Speaker_1'] == speaker]\n",
    "    speaker_dfs[speaker] = speaker_df\n",
    "\n",
    "# Print the resulting dataframes\n",
    "for speaker, df in speaker_dfs.items():\n",
    "    print(f\"Speaker: {speaker}, Rows: {len(df)}\")\n",
    "\n",
    "# Save each speaker's dataframe to a separate CSV file\n",
    "for speaker, df in speaker_dfs.items():\n",
    "    df.to_csv(f\"{speaker}_data.csv\", index=False)\n"
   ]
  },
  {
   "cell_type": "code",
   "execution_count": 18,
   "id": "76ce3c5f",
   "metadata": {},
   "outputs": [
    {
     "name": "stdout",
     "output_type": "stream",
     "text": [
      "Speaker: Chandler, Rows: 1085\n"
     ]
    },
    {
     "ename": "LookupError",
     "evalue": "\n**********************************************************************\n  Resource \u001b[93mpunkt_tab\u001b[0m not found.\n  Please use the NLTK Downloader to obtain the resource:\n\n  \u001b[31m>>> import nltk\n  >>> nltk.download('punkt_tab')\n  \u001b[0m\n  For more information see: https://www.nltk.org/data.html\n\n  Attempted to load \u001b[93mtokenizers/punkt_tab/english/\u001b[0m\n\n  Searched in:\n    - 'C:\\\\Users\\\\Mohammad/nltk_data'\n    - 'd:\\\\Apps\\\\anaconda3\\\\envs\\\\gpu_env\\\\nltk_data'\n    - 'd:\\\\Apps\\\\anaconda3\\\\envs\\\\gpu_env\\\\share\\\\nltk_data'\n    - 'd:\\\\Apps\\\\anaconda3\\\\envs\\\\gpu_env\\\\lib\\\\nltk_data'\n    - 'C:\\\\Users\\\\Mohammad\\\\AppData\\\\Roaming\\\\nltk_data'\n    - 'C:\\\\nltk_data'\n    - 'D:\\\\nltk_data'\n    - 'E:\\\\nltk_data'\n**********************************************************************\n",
     "output_type": "error",
     "traceback": [
      "\u001b[1;31m---------------------------------------------------------------------------\u001b[0m",
      "\u001b[1;31mLookupError\u001b[0m                               Traceback (most recent call last)",
      "Cell \u001b[1;32mIn[18], line 16\u001b[0m\n\u001b[0;32m     14\u001b[0m tokenized_text \u001b[38;5;241m=\u001b[39m []\n\u001b[0;32m     15\u001b[0m \u001b[38;5;28;01mfor\u001b[39;00m utterance \u001b[38;5;129;01min\u001b[39;00m df[\u001b[38;5;124m'\u001b[39m\u001b[38;5;124mUtterance_1\u001b[39m\u001b[38;5;124m'\u001b[39m]:\n\u001b[1;32m---> 16\u001b[0m     sentences \u001b[38;5;241m=\u001b[39m \u001b[43msent_tokenize\u001b[49m\u001b[43m(\u001b[49m\u001b[43mutterance\u001b[49m\u001b[43m)\u001b[49m\n\u001b[0;32m     17\u001b[0m     \u001b[38;5;28;01mfor\u001b[39;00m sentence \u001b[38;5;129;01min\u001b[39;00m sentences:\n\u001b[0;32m     18\u001b[0m         tokenized_text\u001b[38;5;241m.\u001b[39mappend(word_tokenize(sentence))\n",
      "File \u001b[1;32md:\\Apps\\anaconda3\\envs\\gpu_env\\lib\\site-packages\\nltk\\tokenize\\__init__.py:119\u001b[0m, in \u001b[0;36msent_tokenize\u001b[1;34m(text, language)\u001b[0m\n\u001b[0;32m    109\u001b[0m \u001b[38;5;28;01mdef\u001b[39;00m \u001b[38;5;21msent_tokenize\u001b[39m(text, language\u001b[38;5;241m=\u001b[39m\u001b[38;5;124m\"\u001b[39m\u001b[38;5;124menglish\u001b[39m\u001b[38;5;124m\"\u001b[39m):\n\u001b[0;32m    110\u001b[0m \u001b[38;5;250m    \u001b[39m\u001b[38;5;124;03m\"\"\"\u001b[39;00m\n\u001b[0;32m    111\u001b[0m \u001b[38;5;124;03m    Return a sentence-tokenized copy of *text*,\u001b[39;00m\n\u001b[0;32m    112\u001b[0m \u001b[38;5;124;03m    using NLTK's recommended sentence tokenizer\u001b[39;00m\n\u001b[1;32m   (...)\u001b[0m\n\u001b[0;32m    117\u001b[0m \u001b[38;5;124;03m    :param language: the model name in the Punkt corpus\u001b[39;00m\n\u001b[0;32m    118\u001b[0m \u001b[38;5;124;03m    \"\"\"\u001b[39;00m\n\u001b[1;32m--> 119\u001b[0m     tokenizer \u001b[38;5;241m=\u001b[39m \u001b[43m_get_punkt_tokenizer\u001b[49m\u001b[43m(\u001b[49m\u001b[43mlanguage\u001b[49m\u001b[43m)\u001b[49m\n\u001b[0;32m    120\u001b[0m     \u001b[38;5;28;01mreturn\u001b[39;00m tokenizer\u001b[38;5;241m.\u001b[39mtokenize(text)\n",
      "File \u001b[1;32md:\\Apps\\anaconda3\\envs\\gpu_env\\lib\\site-packages\\nltk\\tokenize\\__init__.py:105\u001b[0m, in \u001b[0;36m_get_punkt_tokenizer\u001b[1;34m(language)\u001b[0m\n\u001b[0;32m     96\u001b[0m \u001b[38;5;129m@functools\u001b[39m\u001b[38;5;241m.\u001b[39mlru_cache\n\u001b[0;32m     97\u001b[0m \u001b[38;5;28;01mdef\u001b[39;00m \u001b[38;5;21m_get_punkt_tokenizer\u001b[39m(language\u001b[38;5;241m=\u001b[39m\u001b[38;5;124m\"\u001b[39m\u001b[38;5;124menglish\u001b[39m\u001b[38;5;124m\"\u001b[39m):\n\u001b[0;32m     98\u001b[0m \u001b[38;5;250m    \u001b[39m\u001b[38;5;124;03m\"\"\"\u001b[39;00m\n\u001b[0;32m     99\u001b[0m \u001b[38;5;124;03m    A constructor for the PunktTokenizer that utilizes\u001b[39;00m\n\u001b[0;32m    100\u001b[0m \u001b[38;5;124;03m    a lru cache for performance.\u001b[39;00m\n\u001b[1;32m   (...)\u001b[0m\n\u001b[0;32m    103\u001b[0m \u001b[38;5;124;03m    :type language: str\u001b[39;00m\n\u001b[0;32m    104\u001b[0m \u001b[38;5;124;03m    \"\"\"\u001b[39;00m\n\u001b[1;32m--> 105\u001b[0m     \u001b[38;5;28;01mreturn\u001b[39;00m \u001b[43mPunktTokenizer\u001b[49m\u001b[43m(\u001b[49m\u001b[43mlanguage\u001b[49m\u001b[43m)\u001b[49m\n",
      "File \u001b[1;32md:\\Apps\\anaconda3\\envs\\gpu_env\\lib\\site-packages\\nltk\\tokenize\\punkt.py:1744\u001b[0m, in \u001b[0;36mPunktTokenizer.__init__\u001b[1;34m(self, lang)\u001b[0m\n\u001b[0;32m   1742\u001b[0m \u001b[38;5;28;01mdef\u001b[39;00m \u001b[38;5;21m__init__\u001b[39m(\u001b[38;5;28mself\u001b[39m, lang\u001b[38;5;241m=\u001b[39m\u001b[38;5;124m\"\u001b[39m\u001b[38;5;124menglish\u001b[39m\u001b[38;5;124m\"\u001b[39m):\n\u001b[0;32m   1743\u001b[0m     PunktSentenceTokenizer\u001b[38;5;241m.\u001b[39m\u001b[38;5;21m__init__\u001b[39m(\u001b[38;5;28mself\u001b[39m)\n\u001b[1;32m-> 1744\u001b[0m     \u001b[38;5;28;43mself\u001b[39;49m\u001b[38;5;241;43m.\u001b[39;49m\u001b[43mload_lang\u001b[49m\u001b[43m(\u001b[49m\u001b[43mlang\u001b[49m\u001b[43m)\u001b[49m\n",
      "File \u001b[1;32md:\\Apps\\anaconda3\\envs\\gpu_env\\lib\\site-packages\\nltk\\tokenize\\punkt.py:1749\u001b[0m, in \u001b[0;36mPunktTokenizer.load_lang\u001b[1;34m(self, lang)\u001b[0m\n\u001b[0;32m   1746\u001b[0m \u001b[38;5;28;01mdef\u001b[39;00m \u001b[38;5;21mload_lang\u001b[39m(\u001b[38;5;28mself\u001b[39m, lang\u001b[38;5;241m=\u001b[39m\u001b[38;5;124m\"\u001b[39m\u001b[38;5;124menglish\u001b[39m\u001b[38;5;124m\"\u001b[39m):\n\u001b[0;32m   1747\u001b[0m     \u001b[38;5;28;01mfrom\u001b[39;00m \u001b[38;5;21;01mnltk\u001b[39;00m\u001b[38;5;21;01m.\u001b[39;00m\u001b[38;5;21;01mdata\u001b[39;00m \u001b[38;5;28;01mimport\u001b[39;00m find\n\u001b[1;32m-> 1749\u001b[0m     lang_dir \u001b[38;5;241m=\u001b[39m \u001b[43mfind\u001b[49m\u001b[43m(\u001b[49m\u001b[38;5;124;43mf\u001b[39;49m\u001b[38;5;124;43m\"\u001b[39;49m\u001b[38;5;124;43mtokenizers/punkt_tab/\u001b[39;49m\u001b[38;5;132;43;01m{\u001b[39;49;00m\u001b[43mlang\u001b[49m\u001b[38;5;132;43;01m}\u001b[39;49;00m\u001b[38;5;124;43m/\u001b[39;49m\u001b[38;5;124;43m\"\u001b[39;49m\u001b[43m)\u001b[49m\n\u001b[0;32m   1750\u001b[0m     \u001b[38;5;28mself\u001b[39m\u001b[38;5;241m.\u001b[39m_params \u001b[38;5;241m=\u001b[39m load_punkt_params(lang_dir)\n\u001b[0;32m   1751\u001b[0m     \u001b[38;5;28mself\u001b[39m\u001b[38;5;241m.\u001b[39m_lang \u001b[38;5;241m=\u001b[39m lang\n",
      "File \u001b[1;32md:\\Apps\\anaconda3\\envs\\gpu_env\\lib\\site-packages\\nltk\\data.py:579\u001b[0m, in \u001b[0;36mfind\u001b[1;34m(resource_name, paths)\u001b[0m\n\u001b[0;32m    577\u001b[0m sep \u001b[38;5;241m=\u001b[39m \u001b[38;5;124m\"\u001b[39m\u001b[38;5;124m*\u001b[39m\u001b[38;5;124m\"\u001b[39m \u001b[38;5;241m*\u001b[39m \u001b[38;5;241m70\u001b[39m\n\u001b[0;32m    578\u001b[0m resource_not_found \u001b[38;5;241m=\u001b[39m \u001b[38;5;124mf\u001b[39m\u001b[38;5;124m\"\u001b[39m\u001b[38;5;130;01m\\n\u001b[39;00m\u001b[38;5;132;01m{\u001b[39;00msep\u001b[38;5;132;01m}\u001b[39;00m\u001b[38;5;130;01m\\n\u001b[39;00m\u001b[38;5;132;01m{\u001b[39;00mmsg\u001b[38;5;132;01m}\u001b[39;00m\u001b[38;5;130;01m\\n\u001b[39;00m\u001b[38;5;132;01m{\u001b[39;00msep\u001b[38;5;132;01m}\u001b[39;00m\u001b[38;5;130;01m\\n\u001b[39;00m\u001b[38;5;124m\"\u001b[39m\n\u001b[1;32m--> 579\u001b[0m \u001b[38;5;28;01mraise\u001b[39;00m \u001b[38;5;167;01mLookupError\u001b[39;00m(resource_not_found)\n",
      "\u001b[1;31mLookupError\u001b[0m: \n**********************************************************************\n  Resource \u001b[93mpunkt_tab\u001b[0m not found.\n  Please use the NLTK Downloader to obtain the resource:\n\n  \u001b[31m>>> import nltk\n  >>> nltk.download('punkt_tab')\n  \u001b[0m\n  For more information see: https://www.nltk.org/data.html\n\n  Attempted to load \u001b[93mtokenizers/punkt_tab/english/\u001b[0m\n\n  Searched in:\n    - 'C:\\\\Users\\\\Mohammad/nltk_data'\n    - 'd:\\\\Apps\\\\anaconda3\\\\envs\\\\gpu_env\\\\nltk_data'\n    - 'd:\\\\Apps\\\\anaconda3\\\\envs\\\\gpu_env\\\\share\\\\nltk_data'\n    - 'd:\\\\Apps\\\\anaconda3\\\\envs\\\\gpu_env\\\\lib\\\\nltk_data'\n    - 'C:\\\\Users\\\\Mohammad\\\\AppData\\\\Roaming\\\\nltk_data'\n    - 'C:\\\\nltk_data'\n    - 'D:\\\\nltk_data'\n    - 'E:\\\\nltk_data'\n**********************************************************************\n"
     ]
    }
   ],
   "source": [
    "import nltk\n",
    "from nltk.tokenize import sent_tokenize\n",
    "\n",
    "# Preprocess your data (split into sentences)\n",
    "speaker_dfs = {}\n",
    "for speaker in df_raw['Speaker_1'].unique():\n",
    "    speaker_df = df_raw[df_raw['Speaker_1'] == speaker]\n",
    "    speaker_dfs[speaker] = speaker_df\n",
    "\n",
    "for speaker, df in speaker_dfs.items():\n",
    "    print(f\"Speaker: {speaker}, Rows: {len(df)}\")\n",
    "\n",
    "    # Calculate and print vocabulary set, vocab size, and num of tokens for each speaker\n",
    "    tokenized_text = []\n",
    "    for utterance in df['Utterance_1']:\n",
    "        sentences = sent_tokenize(utterance)\n",
    "        for sentence in sentences:\n",
    "            tokenized_text.append(word_tokenize(sentence))\n",
    "\n",
    "    vocab_set = set()\n",
    "    for utterance in tokenized_text:\n",
    "        vocab_set.update(set(utterance))\n",
    "    vocab_size = len(vocab_set)\n",
    "\n",
    "    num_tokens = sum(len(utterance) for utterance in tokenized_text)\n",
    "\n",
    "    print(f\"Speaker: {speaker}, Vocabulary Set: {len(vocab_set)}, Vocab Size: {vocab_size}, Num Tokens: {num_tokens}\\n\")\n",
    "\n",
    "    # Define confirmation and negation word lists\n",
    "    confirmation_words = ['yes', 'yeah', 'yep', 'okay', 'alright', 'sure', 'absolutely', 'certainly', 'of course', 'indeed']\n",
    "    negation_words = ['no', 'not', 'never', 'none', 'nor', 'nobody', 'neither', \"don't\", \"isn't\", \"wasn't\", \"weren't\", \"doesn't\", \"won't\", \"haven't\"]\n",
    "\n",
    "    # Tokenize the text and count confirmation and negation words\n",
    "    tokenized_text = [word_tokenize(utterance) for utterance in df['Utterance_1']]\n",
    "    confirmation_count = sum(any(word in confirmation_words for word in utterance) for utterance in tokenized_text)\n",
    "    negation_count = sum(any(word in negation_words for word in utterance) for utterance in tokenized_text)\n",
    "\n",
    "    print(f\"Speaker: {speaker}, Confirmation Count: {confirmation_count}, Negation Count: {negation_count}\\n\")\n",
    "\n",
    "    # Print the tokenized text\n",
    "    for i, utterance in enumerate(tokenized_text):\n",
    "        print(f\"Utterance {i+1}: {utterance}\")\n",
    "    \n",
    "    print(\"\\n\")\n",
    "\n",
    "# Save each speaker's dataframe to a separate CSV file\n",
    "for speaker, df in speaker_dfs.items():\n",
    "    df.to_csv(f\"{speaker}_data.csv\", index=False)\n"
   ]
  },
  {
   "cell_type": "code",
   "execution_count": null,
   "id": "f1b5262c",
   "metadata": {},
   "outputs": [],
   "source": []
  }
 ],
 "metadata": {
  "kernelspec": {
   "display_name": "Python (gpu_env)",
   "language": "python",
   "name": "gpu_env"
  },
  "language_info": {
   "codemirror_mode": {
    "name": "ipython",
    "version": 3
   },
   "file_extension": ".py",
   "mimetype": "text/x-python",
   "name": "python",
   "nbconvert_exporter": "python",
   "pygments_lexer": "ipython3",
   "version": "3.8.18"
  }
 },
 "nbformat": 4,
 "nbformat_minor": 5
}
