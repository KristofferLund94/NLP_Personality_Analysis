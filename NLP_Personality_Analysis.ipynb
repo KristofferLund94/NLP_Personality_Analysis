{
 "cells": [
  {
   "cell_type": "code",
   "execution_count": 8,
   "id": "575589a6-8c41-48f5-bf63-f2ddf70a31fa",
   "metadata": {},
   "outputs": [
    {
     "name": "stdout",
     "output_type": "stream",
     "text": [
      "<class 'pandas.core.frame.DataFrame'>\n",
      "RangeIndex: 6510 entries, 0 to 6509\n",
      "Data columns (total 12 columns):\n",
      " #   Column       Non-Null Count  Dtype \n",
      "---  ------       --------------  ----- \n",
      " 0   Speaker_1    6510 non-null   object\n",
      " 1   Speaker_2    6510 non-null   object\n",
      " 2   Personality  6510 non-null   object\n",
      " 3   Utterance_1  6510 non-null   object\n",
      " 4   Utterance_2  6510 non-null   object\n",
      " 5   Utterance_3  6510 non-null   object\n",
      " 6   Emotion_1    6510 non-null   object\n",
      " 7   Emotion_2    6510 non-null   object\n",
      " 8   Emotion_3    6510 non-null   object\n",
      " 9   Sentiment_1  6510 non-null   object\n",
      " 10  Sentiment_2  6510 non-null   object\n",
      " 11  Sentiment_3  6510 non-null   object\n",
      "dtypes: object(12)\n",
      "memory usage: 610.4+ KB\n"
     ]
    }
   ],
   "source": [
    "import pandas as pd\n",
    "\n",
    "df_raw = pd.read_csv('Dyadic_PELD.tsv', sep='\\t', header=0)\n",
    "df_raw.info()"
   ]
  },
  {
   "cell_type": "code",
   "execution_count": null,
   "id": "a0a56149-942e-4322-92d6-aaf62869db74",
   "metadata": {},
   "outputs": [],
   "source": []
  }
 ],
 "metadata": {
  "kernelspec": {
   "display_name": "Python 3 (ipykernel)",
   "language": "python",
   "name": "python3"
  },
  "language_info": {
   "codemirror_mode": {
    "name": "ipython",
    "version": 3
   },
   "file_extension": ".py",
   "mimetype": "text/x-python",
   "name": "python",
   "nbconvert_exporter": "python",
   "pygments_lexer": "ipython3",
   "version": "3.12.4"
  }
 },
 "nbformat": 4,
 "nbformat_minor": 5
}
